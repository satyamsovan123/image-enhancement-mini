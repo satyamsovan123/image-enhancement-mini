{
 "cells": [
  {
   "cell_type": "code",
   "execution_count": null,
   "metadata": {},
   "outputs": [],
   "source": [
    "#Some useful libraries \n",
    "import matplotlib.pyplot as plt\n",
    "import numpy as np\n",
    "import cv2\n",
    "import imageio\n",
    "import random\n"
   ]
  },
  {
   "cell_type": "code",
   "execution_count": null,
   "metadata": {},
   "outputs": [],
   "source": [
    "#importing normal image using cv2\n",
    "import cv2 #importing library opencv\n",
    "image = cv2.imread('/Users/satyamsovan123/Desktop/i.png') #Setting a variable name for the image's path\n",
    "cv2.imshow('i',image) #Displaying image in a window\n",
    "\n",
    "cv2.waitKey(0)                 # Waits forever for user to press any key\n",
    "cv2.destroyAllWindows()        # Closes displayed windows\n"
   ]
  },
  {
   "cell_type": "code",
   "execution_count": 106,
   "metadata": {},
   "outputs": [
    {
     "name": "stdout",
     "output_type": "stream",
     "text": [
      "The total size of image is : \n",
      "(359, 500, 3)\n",
      "The image matrix is represented as : \n",
      "[[[101 142 167]\n",
      "  [101 142 167]\n",
      "  [101 142 167]\n",
      "  ..., \n",
      "  [ 71 113 148]\n",
      "  [ 70 112 147]\n",
      "  [ 70 112 147]]\n",
      "\n",
      " [[101 142 167]\n",
      "  [101 142 167]\n",
      "  [102 143 168]\n",
      "  ..., \n",
      "  [ 71 113 148]\n",
      "  [ 70 112 147]\n",
      "  [ 70 112 147]]\n",
      "\n",
      " [[102 143 168]\n",
      "  [102 143 168]\n",
      "  [102 143 168]\n",
      "  ..., \n",
      "  [ 70 112 147]\n",
      "  [ 70 112 147]\n",
      "  [ 69 111 146]]\n",
      "\n",
      " ..., \n",
      " [[247 247 247]\n",
      "  [244 244 244]\n",
      "  [249 249 249]\n",
      "  ..., \n",
      "  [247 247 247]\n",
      "  [247 247 247]\n",
      "  [247 247 247]]\n",
      "\n",
      " [[248 248 248]\n",
      "  [246 246 246]\n",
      "  [247 247 247]\n",
      "  ..., \n",
      "  [247 247 247]\n",
      "  [247 247 247]\n",
      "  [247 247 247]]\n",
      "\n",
      " [[244 244 244]\n",
      "  [254 254 254]\n",
      "  [239 239 239]\n",
      "  ..., \n",
      "  [247 247 247]\n",
      "  [247 247 247]\n",
      "  [247 247 247]]]\n"
     ]
    }
   ],
   "source": [
    "#importing normal image using cv2\n",
    "import cv2 #importing library opencv\n",
    "import numpy as np\n",
    "image = cv2.imread('/Users/satyamsovan123/Desktop/1.jpg') #Setting a variable name for the image's path\n",
    "\n",
    "#Showing pixel values of the image\n",
    "print(\"The total size of image is : \")\n",
    "print(image.shape) #Prints the total size of the image matrix\n",
    "\n",
    "print(\"The image matrix is represented as : \")\n",
    "print(image) #Prints the image matrix"
   ]
  },
  {
   "cell_type": "code",
   "execution_count": null,
   "metadata": {},
   "outputs": [],
   "source": [
    "#importing normal image using cv2\n",
    "import cv2 #importing library opencv\n",
    "image = cv2.imread('/Users/satyamsovan123/Desktop/1.png') #Setting a variable name for the image's path\n",
    "\n",
    "#Converting image to greyscale\n",
    "gray_image = cv2.cvtColor(image, cv2.COLOR_BGR2GRAY) #Converting image to grey\n",
    "cv2.imshow('Gray',gray_image) #Displaying Greyed image\n",
    "\n",
    "cv2.waitKey(0)                 # Waits forever for user to press any key\n",
    "cv2.destroyAllWindows()        # Closes displayed windows\n",
    "\n",
    "#Writing or saving an image\n",
    "cv2.imwrite('/Users/satyamsovan123/Desktop/savedGreyImage.jpg',gray_image) #save image in .png format in given directory"
   ]
  },
  {
   "cell_type": "code",
   "execution_count": 2,
   "metadata": {},
   "outputs": [
    {
     "data": {
      "text/plain": [
       "'src – Input 8-bit 3-channel image.\\ndst – Output image with the same size and type as src .\\ntemplateWindowSize – Size in pixels of the template patch that is used to compute weights. Should be odd. Recommended value 7 pixels\\nsearchWindowSize – Size in pixels of the window that is used to compute weighted average for given pixel. Should be odd. Affect performance linearly: greater searchWindowsSize - greater denoising time. Recommended value 21 pixels\\nh – Parameter regulating filter strength for luminance component. Bigger h value perfectly removes noise but also removes image details, smaller h value preserves details but also preserves some noise\\nhColor –'"
      ]
     },
     "execution_count": 2,
     "metadata": {},
     "output_type": "execute_result"
    }
   ],
   "source": [
    "#Final Denoising\n",
    "import cv2\n",
    "import matplotlib.pyplot as plt\n",
    "\n",
    "img = cv2.imread('/Users/satyamsovan123/Desktop/i.png')\n",
    "lll=cv2.medianBlur(img,ksize=3)\n",
    "cv2.imwrite('/Users/satyamsovan123/Desktop/lll.jpg',lll)\n",
    "op = cv2.fastNlMeansDenoisingColored(lll,None,6.4,10,7,21)\n",
    "cv2.imwrite('/Users/satyamsovan123/Desktop/lllr.jpg',lll)\n",
    "'''src – Input 8-bit 3-channel image.\n",
    "dst – Output image with the same size and type as src .\n",
    "templateWindowSize – Size in pixels of the template patch that is used to compute weights. Should be odd. Recommended value 7 pixels\n",
    "searchWindowSize – Size in pixels of the window that is used to compute weighted average for given pixel. Should be odd. Affect performance linearly: greater searchWindowsSize - greater denoising time. Recommended value 21 pixels\n",
    "h – Parameter regulating filter strength for luminance component. Bigger h value perfectly removes noise but also removes image details, smaller h value preserves details but also preserves some noise\n",
    "hColor –'''\n"
   ]
  },
  {
   "cell_type": "code",
   "execution_count": 96,
   "metadata": {},
   "outputs": [
    {
     "data": {
      "text/plain": [
       "'cv2.calcHist(images, channels, mask, histSize, ranges[, hist[, accumulate]])\\nimages : it is the source image of type uint8 or float32 represented as “[img]”.\\nchannels : it is the index of channel for which we calculate histogram. For grayscale image, its value is [0] and\\ncolor image, you can pass [0], [1] or [2] to calculate histogram of blue, green or red channel respectively.\\nmask : mask image (partof an image). To find histogram of full image, it is given as “None”.\\nhistSize : this represents our BIN count. For full scale, we pass [256].\\nranges : this is our RANGE. Normally, it is [0,256].'"
      ]
     },
     "execution_count": 96,
     "metadata": {},
     "output_type": "execute_result"
    },
    {
     "data": {
      "image/png": "[encoded data removed]",
      "text/plain": [
       "<Figure size 432x288 with 1 Axes>"
      ]
     },
     "metadata": {},
     "output_type": "display_data"
    }
   ],
   "source": [
    "#Histogram of image\n",
    "import cv2 \n",
    "import matplotlib.pyplot as plt\n",
    "import matplotlib.image as mpimg #to read image and load it\n",
    "img = mpimg.imread('/Users/satyamsovan123/Desktop/ip.jpg')\n",
    "histg = cv2.calcHist([img],[0],None,[256],[0,256])#plotting histogram \n",
    "plt.plot(histg)\n",
    "#http://scikit-image.org/docs/dev/user_guide/data_types.html shows various data types of images\n",
    "\n",
    "'''bin\" the range of values—that is, divide the entire range of values into a series of \n",
    "intervals—and then count how many values fall into each interval.'''\n",
    "\n",
    "'''cv2.calcHist(images, channels, mask, histSize, ranges[, hist[, accumulate]])\n",
    "\n",
    "images : it is the source image of type uint8 or float32 represented as “[img]”.\n",
    "channels : it is the index of channel for which we calculate histogram. For grayscale image, its value is [0] and\n",
    "color image, you can pass [0], [1] or [2] to calculate histogram of blue, green or red channel respectively.\n",
    "mask : mask image (partof an image). To find histogram of full image, it is given as “None”.\n",
    "histSize : this represents our BIN count. For full scale, we pass [256].\n",
    "ranges : this is our RANGE. Normally, it is [0,256].'''"
   ]
  },
  {
   "cell_type": "code",
   "execution_count": 14,
   "metadata": {},
   "outputs": [],
   "source": [
    "#Enhancment and exposure correction\n",
    "import numpy \n",
    "from PIL import ImageEnhance, Image\n",
    "import matplotlib.pyplot as plt\n",
    "import cv2\n",
    "\n",
    "or_img=Image.open('/Users/satyamsovan123/Desktop/o4.png')\n",
    "sharpness = ImageEnhance.Sharpness(or_img)\n",
    "shrp=sharpness.enhance(3.)\n",
    "shrp.save('/Users/satyamsovan123/Desktop/o44.png')\n",
    "\n",
    "img1=Image.open('/Users/satyamsovan123/Desktop/o33.png')\n",
    "contrast = ImageEnhance.Contrast(img1)\n",
    "cntr=contrast.enhance(2.4)\n",
    "cntr.save('/Users/satyamsovan123/Desktop/o33.png')\n",
    "\n",
    "img2=Image.open('/Users/satyamsovan123/Desktop/o44.png')\n",
    "bright=ImageEnhance.Brightness(img2)\n",
    "brght=bright.enhance(1.3)\n",
    "brght.save('/Users/satyamsovan123/Desktop/o44.png')\n",
    "\n",
    "\n",
    "\n"
   ]
  },
  {
   "cell_type": "code",
   "execution_count": 13,
   "metadata": {},
   "outputs": [],
   "source": [
    "from PIL import ImageEnhance,Image\n",
    "\n",
    "img1=Image.open('/Users/satyamsovan123/Desktop/o4.png')\n",
    "contrast = ImageEnhance.Contrast(img1)\n",
    "cntr=contrast.enhance(1.5)\n",
    "cntr.save('/Users/satyamsovan123/Desktop/op22.jpg')\n",
    "\n",
    "img2=Image.open('/Users/satyamsovan123/Desktop/op22.jpg')\n",
    "bright=ImageEnhance.Brightness(img2)\n",
    "brght=bright.enhance(1.7)\n",
    "brght.save('/Users/satyamsovan123/Desktop/o33.png')"
   ]
  },
  {
   "cell_type": "code",
   "execution_count": null,
   "metadata": {},
   "outputs": [],
   "source": [
    "\n"
   ]
  },
  {
   "cell_type": "code",
   "execution_count": 4,
   "metadata": {},
   "outputs": [],
   "source": [
    "#Final Exposure Correction\n",
    "\n",
    "import cv2\n",
    "import numpy as np\n",
    "from PIL import ImageEnhance,Image\n",
    "\n",
    "def adj_gamma(image, gamma):\n",
    "\n",
    "    invGamma = 1.0/ gamma\n",
    "    table = np.array([((i / 255.0) ** invGamma) * 255\n",
    "    for i in np.arange(0, 256)]).astype(\"uint8\")\n",
    "    return cv2.LUT(image, table)\n",
    "\n",
    "x = '/Users/satyamsovan123/Desktop/i.png'  #location of the image\n",
    "original = cv2.imread(x)\n",
    "#cv2.imshow('original',original)\n",
    "\n",
    "gamma = 1.4 # changing the value here will give different result increase---->dark and decrease ----->light\n",
    "adjusted = adjust_gamma(original, gamma=1.6)\n",
    "#cv2.imshow(\"gammam image 1\", adjusted)\n",
    "cv2.imwrite('/Users/satyamsovan123/Desktop/o4.png',adjusted)\n",
    "\n",
    "img1=Image.open('/Users/satyamsovan123/Desktop/o4.png')\n",
    "contrast = ImageEnhance.Contrast(img1)\n",
    "cntr=contrast.enhance(1.5)\n",
    "cntr.save('/Users/satyamsovan123/Desktop/o5.png')\n",
    "\n",
    "img2=Image.open('/Users/satyamsovan123/Desktop/o5.png')\n",
    "bright=ImageEnhance.Brightness(img2)\n",
    "brght=bright.enhance(1.2)\n",
    "brght.save('/Users/satyamsovan123/Desktop/o6.png')"
   ]
  },
  {
   "cell_type": "code",
   "execution_count": null,
   "metadata": {},
   "outputs": [],
   "source": []
  },
  {
   "cell_type": "code",
   "execution_count": 3,
   "metadata": {},
   "outputs": [],
   "source": [
    "#Final Boosting\n",
    "import matplotlib.pyplot as plt\n",
    "import numpy as np\n",
    "from scipy import ndimage\n",
    "from PIL import Image\n",
    "import cv2\n",
    "from PIL import ImageEnhance,Image\n",
    "\n",
    "\n",
    "# Load the data...\n",
    "im = cv2.imread('/Users/satyamsovan123/Desktop/rough/o6.png')\n",
    "data = np.array(im, dtype=int)\n",
    "lowpass = ndimage.gaussian_filter(data, 10)\n",
    "gauss_highpass = 1.5*data - (0.55)*lowpass\n",
    "cv2.imwrite('/Users/satyamsovan123/Desktop/rough/output1.png',gauss_highpass)\n",
    "\n",
    "imr=Image.open('/Users/satyamsovan123/Desktop/rough/output1.png')\n",
    "sharpness = ImageEnhance.Sharpness(imr)\n",
    "shrp=sharpness.enhance(1.0)\n",
    "shrp.save('/Users/satyamsovan123/Desktop/rough/o7.png')\n",
    "\n"
   ]
  },
  {
   "cell_type": "code",
   "execution_count": 17,
   "metadata": {},
   "outputs": [
    {
     "data": {
      "text/plain": [
       "array([  0,   0,   1,   1,   2,   2,   3,   3,   4,   4,   5,   5,   6,\n",
       "         6,   7,   7,   8,   8,   9,   9,  10,  10,  11,  11,  12,  12,\n",
       "        13,  13,  14,  14,  15,  15,  16,  16,  17,  17,  18,  18,  19,\n",
       "        19,  20,  20,  21,  21,  22,  22,  23,  23,  24,  24,  25,  25,\n",
       "        26,  26,  27,  27,  28,  28,  29,  29,  30,  30,  31,  31,  32,\n",
       "        32,  33,  33,  34,  34,  35,  35,  36,  36,  37,  37,  38,  38,\n",
       "        39,  39,  40,  40,  41,  41,  42,  42,  43,  43,  44,  44,  45,\n",
       "        45,  46,  46,  47,  47,  48,  48,  49,  49,  50,  50,  51,  51,\n",
       "        52,  52,  53,  53,  54,  54,  55,  55,  56,  56,  57,  57,  58,\n",
       "        58,  59,  59,  60,  60,  61,  61,  62,  62,  63,  63,  64,  64,\n",
       "        65,  65,  66,  66,  67,  67,  68,  68,  69,  69,  70,  70,  71,\n",
       "        71,  72,  72,  73,  73,  74,  74,  75,  75,  76,  76,  77,  77,\n",
       "        78,  78,  79,  79,  80,  80,  81,  81,  82,  82,  83,  83,  84,\n",
       "        84,  85,  85,  86,  86,  87,  87,  88,  88,  89,  89,  90,  90,\n",
       "        91,  91,  92,  92,  93,  93,  94,  94,  95,  95,  96,  96,  97,\n",
       "        97,  98,  98,  99,  99, 100, 100, 101, 101, 102, 102, 103, 103,\n",
       "       104, 104, 105, 105, 106, 106, 107, 107, 108, 108, 109, 109, 110,\n",
       "       110, 111, 111, 112, 112, 113, 113, 114, 114, 115, 115, 116, 116,\n",
       "       117, 117, 118, 118, 119, 119, 120, 120, 121, 121, 122, 122, 123,\n",
       "       123, 124, 124, 125, 125, 126, 126, 127, 127], dtype=uint8)"
      ]
     },
     "execution_count": 17,
     "metadata": {},
     "output_type": "execute_result"
    }
   ],
   "source": [
    "import numpy\n",
    "\n",
    "numpy.array([((i / 255.0) ** 1/2) * 255\n",
    "    for i in numpy.arange(0, 256)]).astype(\"uint8\")"
   ]
  },
  {
   "cell_type": "code",
   "execution_count": 1,
   "metadata": {},
   "outputs": [
    {
     "name": "stderr",
     "output_type": "stream",
     "text": [
      "/anaconda3/lib/python3.6/site-packages/ipykernel_launcher.py:13: DeprecationWarning: `imread` is deprecated!\n",
      "`imread` is deprecated in SciPy 1.0.0, and will be removed in 1.2.0.\n",
      "Use ``imageio.imread`` instead.\n",
      "  del sys.path[0]\n"
     ]
    },
    {
     "name": "stdout",
     "output_type": "stream",
     "text": [
      "29.9758232092\n"
     ]
    },
    {
     "data": {
      "text/plain": [
       "<Figure size 640x480 with 2 Axes>"
      ]
     },
     "metadata": {},
     "output_type": "display_data"
    }
   ],
   "source": [
    "\n",
    "                                #Deblurring by separating channels\n",
    "                                #Needs a few iterations and boosting at last for more correction\n",
    "\n",
    "import numpy as np\n",
    "import matplotlib.pyplot as plt\n",
    "import cv2\n",
    "from scipy import misc\n",
    "from scipy.signal import convolve as conv2\n",
    "from skimage import color, data, restoration\n",
    "from PIL import ImageEnhance, Image\n",
    "from scipy import ndimage\n",
    "img32=misc.imread('/Users/satyamsovan123/Desktop/i.png')\n",
    "img = cv2.imread('/Users/satyamsovan123/Desktop/i.png')\n",
    "b,g,r=cv2.split(img)\n",
    "\n",
    "#Detecting amount of bluriness in image\n",
    "bluriness_img=cv2.Laplacian(img, cv2.CV_64F).var() \n",
    "print(bluriness_img)\n",
    "\n",
    "#cv2 uses BGR\n",
    "imgb=b #Blue Channel\n",
    "imgg=g #Green Channel\n",
    "imgr=r #Red Channel\n",
    "\n",
    "#point spread function\n",
    "psf = (np.ones((5,5)) / 25.0)\n",
    "#psf2 = np.array([[1,4,6,4,1],[4,16,24,16,4],[6,24,-476,24,6],[4,16,24,16,4],[1,4,6,4,1]])/(-256)\n",
    "\n",
    "\n",
    "\n",
    "# Restore Image using Wiener\n",
    "deconvolved_RL_b=restoration.wiener(imgb,psf,1,clip=False)\n",
    "deconvolved_RL_g=restoration.wiener(imgg,psf,1,clip=False)\n",
    "deconvolved_RL_r=restoration.wiener(imgr,psf,1,clip=False)\n",
    "\n",
    "# Restore Image using Richardson-Lucy \n",
    "deconvolved_RL_b= restoration.richardson_lucy(deconvolved_RL_b,psf,iterations=30,clip=False)\n",
    "deconvolved_RL_g= restoration.richardson_lucy(deconvolved_RL_g,psf,iterations=30,clip=False)\n",
    "deconvolved_RL_r= restoration.richardson_lucy(deconvolved_RL_r,psf,iterations=30,clip=False)\n",
    "\n",
    "a=4\n",
    "deconvolved_RL_b=deconvolved_RL_b+a*(deconvolved_RL_b-ndimage.gaussian_filter(deconvolved_RL_b,1))\n",
    "deconvolved_RL_g=deconvolved_RL_g+a*(deconvolved_RL_g-ndimage.gaussian_filter(deconvolved_RL_g,1))\n",
    "deconvolved_RL_r=deconvolved_RL_r+a*(deconvolved_RL_r-ndimage.gaussian_filter(deconvolved_RL_r,1))\n",
    "\n",
    "#Edge Detection\n",
    "edges = cv2.Canny(img,250,400)\n",
    "#Formula (getting required content from edge)\n",
    "alpha = 1.2\n",
    "ed = (255-edges)/255.0*alpha+1-alpha\n",
    "\n",
    "#Deblurring Noisy Data\n",
    "db_b=cv2.medianBlur(deconvolved_RL_b*ed,1)\n",
    "db_g=cv2.medianBlur(deconvolved_RL_g*ed,1)\n",
    "db_r=cv2.medianBlur(deconvolved_RL_r*ed,1)\n",
    "\n",
    "#Adding Deconvoled and edges\n",
    "Img_b = cv2.addWeighted(ed,0.1,deconvolved_RL_b*ed,0.8,1)\n",
    "Img_g = cv2.addWeighted(ed,0.1,deconvolved_RL_g*ed,0.8,1)\n",
    "Img_r = cv2.addWeighted(ed,0.1,deconvolved_RL_r*ed,0.8,1)\n",
    "\n",
    "#writing red blue and green matrix\n",
    "#cv2.imwrite('/Users/satyamsovan123/Desktop/b.png',Img_b)#writing blue\n",
    "#cv2.imwrite('/Users/satyamsovan123/Desktop/g.png',Img_g)#writing green\n",
    "#cv2.imwrite('/Users/satyamsovan123/Desktop/r.png',Img_r)#writing red\n",
    "\n",
    "\n",
    "#Merging all 3 channels\n",
    "x=cv2.merge((Img_b,Img_g,Img_r))\n",
    "#y=cv2.imread('/Users/satyamsovan123/Desktop/dfd.png')\n",
    "cv2.imwrite('/Users/satyamsovan123/Desktop/o1.png',x)\n",
    "\n",
    "#increasing the brightness and contrasrt after few iterations\n",
    "def adjust_gamma(image, gamma):\n",
    "\n",
    "    invGamma = 1.0/ gamma\n",
    "    table = np.array([((i / 255.0) ** invGamma) * 255\n",
    "    for i in np.arange(0, 256)]).astype(\"uint8\")\n",
    "    return cv2.LUT(image, table)\n",
    "\n",
    "y = '/Users/satyamsovan123/Desktop/o1.png'  #location of the image\n",
    "original = cv2.imread(y)\n",
    "#cv2.imshow('original',original)\n",
    "\n",
    "gamma = 2.5 # changing the value here will give different result increase---->dark and decrease ----->light\n",
    "adjusted = adjust_gamma(original, gamma=1.6)\n",
    "#cv2.imshow(\"gammam image 1\", adjusted)\n",
    "cv2.imwrite('/Users/satyamsovan123/Desktop/o2.png',adjusted)\n",
    "\n",
    "\n",
    "\n",
    "#Boosting after exposure correction and getting the boosted and sharpened image after deblur\n",
    "import matplotlib.pyplot as plt\n",
    "import numpy as np\n",
    "from scipy import ndimage\n",
    "from PIL import Image\n",
    "import cv2\n",
    "from PIL import ImageEnhance,Image\n",
    "\n",
    "\n",
    "# Load the data...\n",
    "im = cv2.imread('/Users/satyamsovan123/Desktop/o2.png')\n",
    "data = np.array(im, dtype=int)\n",
    "lowpass = ndimage.gaussian_filter(data, 10)\n",
    "gauss_highpass = 1.5*data - (0.55)*lowpass\n",
    "cv2.imwrite('/Users/satyamsovan123/Desktop/o3.png',gauss_highpass)\n",
    "\n",
    "imr=Image.open('/Users/satyamsovan123/Desktop/o3.png')\n",
    "sharpness = ImageEnhance.Sharpness(imr)\n",
    "shrp=sharpness.enhance(7)\n",
    "shrp.save('/Users/satyamsovan123/Desktop/osad4.png')\n",
    "\n",
    "plt.subplot(1,2,1)\n",
    "plt.imshow(img32)\n",
    "plt.subplot(1,2,2)\n",
    "plt.imshow(shrp)\n",
    "plt.show()\n",
    "\n",
    "\n"
   ]
  },
  {
   "cell_type": "code",
   "execution_count": null,
   "metadata": {},
   "outputs": [],
   "source": []
  }
 ],
 "metadata": {
  "kernelspec": {
   "display_name": "Python 3",
   "language": "python",
   "name": "python3"
  },
  "language_info": {
   "codemirror_mode": {
    "name": "ipython",
    "version": 3
   },
   "file_extension": ".py",
   "mimetype": "text/x-python",
   "name": "python",
   "nbconvert_exporter": "python",
   "pygments_lexer": "ipython3",
   "version": "3.7.2"
  }
 },
 "nbformat": 4,
 "nbformat_minor": 2
}
